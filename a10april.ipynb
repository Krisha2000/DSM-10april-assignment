{
 "cells": [
  {
   "cell_type": "markdown",
   "id": "e54ad0ca-7a98-43a9-9636-2e8a9d930d0b",
   "metadata": {},
   "source": [
    "# Quetion : 1"
   ]
  },
  {
   "cell_type": "markdown",
   "id": "15fb0af9-64de-4e29-b920-9338906b106e",
   "metadata": {},
   "source": [
    " To determine the probability that an employee is a smoker given that they use the health insurance plan, we can use Bayes' theorem. Let's define the events as follows:\n",
    "\n",
    "A: Employee uses the health insurance plan.\n",
    "B: Employee is a smoker.\n",
    "\n",
    "We are given:\n",
    "P(A) = 0.70 (probability that an employee uses the health insurance plan)\n",
    "P(B|A) = 0.40 (probability that an employee is a smoker given that they use the health insurance plan)\n",
    "\n",
    "We want to find P(B|A), the probability that an employee is a smoker given that they use the health insurance plan.\n",
    "\n",
    "Using Bayes' theorem:\n",
    "P(B|A) = (P(A|B) * P(B)) / P(A)\n",
    "\n",
    "Here, P(A|B) is the probability that an employee uses the health insurance plan given that they are a smoker. However, this information is not provided in the question.\n",
    "\n",
    "Without the information on P(A|B), we cannot directly calculate P(B|A). Therefore, we need additional information or assumptions to solve this problem."
   ]
  },
  {
   "cell_type": "markdown",
   "id": "9e95a67d-f999-4628-9045-e5e02ce19ca5",
   "metadata": {},
   "source": [
    "# Quetion : 2"
   ]
  },
  {
   "cell_type": "markdown",
   "id": "a7cf32e8-2a88-4024-9861-f1593e6ef035",
   "metadata": {},
   "source": [
    " Bernoulli Naive Bayes and Multinomial Naive Bayes are both variants of Naive Bayes algorithms commonly used for text classification tasks. However, they differ in their assumptions about the data:\n",
    "\n",
    "Bernoulli Naive Bayes assumes binary features, where each feature is independent and takes only two values: 0 or 1. It is suitable for binary classification tasks where the presence or absence of a feature matters.\n",
    "\n",
    "Multinomial Naive Bayes, on the other hand, is designed for discrete features that can take on multiple values. It is commonly used for text classification, where the features represent word frequencies or counts."
   ]
  },
  {
   "cell_type": "markdown",
   "id": "26c0f151-79bf-483b-b748-5e09e5a6a514",
   "metadata": {},
   "source": [
    "# Quetion : 3"
   ]
  },
  {
   "cell_type": "markdown",
   "id": "9a7164b8-1870-45f4-8b1a-16db384e2c5b",
   "metadata": {},
   "source": [
    " Bernoulli Naive Bayes does not handle missing values explicitly. It assumes that each feature is independent and binary, meaning it only considers whether a feature is present (1) or absent (0). If there are missing values in the data, they need to be handled beforehand, either by imputing a default value or using a separate mechanism to address missingness, such as mean imputation or model-based imputation."
   ]
  },
  {
   "cell_type": "markdown",
   "id": "bdbb9620-1fae-41b2-a0c2-299428342366",
   "metadata": {},
   "source": [
    "# Quetion : 4"
   ]
  },
  {
   "cell_type": "markdown",
   "id": "89d7a1d1-ace1-440c-84cd-ede020f62e97",
   "metadata": {},
   "source": [
    "No, Gaussian Naive Bayes is primarily designed for binary or continuous features and is typically used for binary classification tasks. It assumes that the features follow a Gaussian (normal) distribution. Therefore, it is not directly applicable for multi-class classification problems where there are more than two classes.\n",
    "\n",
    "For multi-class classification tasks, you can consider using Multinomial Naive Bayes, which is specifically designed for discrete features with multiple values and can handle multiple classes efficiently. Alternatively, other algorithms like Logistic Regression, Decision Trees, Random Forests, or Support Vector Machines (SVM) can be suitable choices for multi-class classification."
   ]
  },
  {
   "cell_type": "markdown",
   "id": "13b26ae3-b154-4485-ba78-4a7a94142e1a",
   "metadata": {},
   "source": [
    "# Quetion : 5"
   ]
  },
  {
   "cell_type": "code",
   "execution_count": 12,
   "id": "6b184202-b5fe-4aae-bff7-13dad8804f5e",
   "metadata": {},
   "outputs": [],
   "source": [
    "import numpy as np\n",
    "from sklearn.datasets import fetch_openml\n",
    "from sklearn.model_selection import cross_val_score\n",
    "from sklearn.naive_bayes import BernoulliNB, MultinomialNB, GaussianNB\n",
    "from sklearn.metrics import accuracy_score,precision_score,recall_score\n",
    "import warnings\n",
    "warnings.filterwarnings(\"ignore\")"
   ]
  },
  {
   "cell_type": "code",
   "execution_count": 13,
   "id": "48539677-0cbb-4362-9ba6-a3389ebcf91f",
   "metadata": {},
   "outputs": [],
   "source": [
    "data=fetch_openml(name='spambase',version=1)"
   ]
  },
  {
   "cell_type": "code",
   "execution_count": 14,
   "id": "d84cd317-447a-468b-b5bc-553a9c953c80",
   "metadata": {},
   "outputs": [],
   "source": [
    "X=data.data\n",
    "y=data.target"
   ]
  },
  {
   "cell_type": "code",
   "execution_count": 21,
   "id": "57eb8bfa-ad7f-49d3-b95e-39e7691620f0",
   "metadata": {},
   "outputs": [],
   "source": [
    "bernouli_nb=BernoulliNB()\n",
    "multinomial_nb=MultinomialNB()\n",
    "gaussian_nb=GaussianNB()"
   ]
  },
  {
   "cell_type": "code",
   "execution_count": 22,
   "id": "55a45baf-6ebe-4ed8-89f5-0bdd9bc4bea9",
   "metadata": {},
   "outputs": [],
   "source": [
    "accuracy_scores = cross_val_score(bernouli_nb, X, y, cv=10, scoring='accuracy')\n",
    "precision_scores = cross_val_score(bernouli_nb, X, y, cv=10, scoring='precision')\n",
    "recall_scores = cross_val_score(bernouli_nb, X, y, cv=10, scoring='recall')\n",
    "f1_scores = cross_val_score(bernouli_nb, X, y, cv=10, scoring='f1')"
   ]
  },
  {
   "cell_type": "code",
   "execution_count": 23,
   "id": "09557f70-d46b-42a2-be5b-5e8cad015d33",
   "metadata": {},
   "outputs": [
    {
     "name": "stdout",
     "output_type": "stream",
     "text": [
      "Bernoulli Naive Bayes:\n",
      "Accuracy: 0.8839380364047911\n",
      "Precision: nan\n",
      "Recall: nan\n",
      "F1 Score: nan\n"
     ]
    }
   ],
   "source": [
    "print(\"Bernoulli Naive Bayes:\")\n",
    "print(\"Accuracy:\", np.mean(accuracy_scores))\n",
    "print(\"Precision:\", np.mean(precision_scores))\n",
    "print(\"Recall:\", np.mean(recall_scores))\n",
    "print(\"F1 Score:\", np.mean(f1_scores))\n"
   ]
  },
  {
   "cell_type": "code",
   "execution_count": 24,
   "id": "8546c476-a18f-4a2f-93bf-68397df417fc",
   "metadata": {},
   "outputs": [],
   "source": [
    "accuracy_scores = cross_val_score(multinomial_nb, X, y, cv=10, scoring='accuracy')\n",
    "precision_scores = cross_val_score(multinomial_nb, X, y, cv=10, scoring='precision')\n",
    "recall_scores = cross_val_score(multinomial_nb, X, y, cv=10, scoring='recall')\n",
    "f1_scores = cross_val_score(multinomial_nb, X, y, cv=10, scoring='f1')\n"
   ]
  },
  {
   "cell_type": "code",
   "execution_count": 25,
   "id": "ba35a62e-94fb-4c5c-9a08-d29fb6126fda",
   "metadata": {},
   "outputs": [
    {
     "name": "stdout",
     "output_type": "stream",
     "text": [
      "Multinomial Naive Bayes:\n",
      "Accuracy: 0.7863496180326323\n",
      "Precision: nan\n",
      "Recall: nan\n",
      "F1 Score: nan\n"
     ]
    }
   ],
   "source": [
    "print(\"Multinomial Naive Bayes:\")\n",
    "print(\"Accuracy:\", np.mean(accuracy_scores))\n",
    "print(\"Precision:\", np.mean(precision_scores))\n",
    "print(\"Recall:\", np.mean(recall_scores))\n",
    "print(\"F1 Score:\", np.mean(f1_scores))"
   ]
  },
  {
   "cell_type": "code",
   "execution_count": 26,
   "id": "cc5ac0c4-9705-44af-baf8-85eb89d775e6",
   "metadata": {},
   "outputs": [],
   "source": [
    "accuracy_scores = cross_val_score(gaussian_nb, X, y, cv=10, scoring='accuracy')\n",
    "precision_scores = cross_val_score(gaussian_nb, X, y, cv=10, scoring='precision')\n",
    "recall_scores = cross_val_score(gaussian_nb, X, y, cv=10, scoring='recall')\n",
    "f1_scores = cross_val_score(gaussian_nb, X, y, cv=10, scoring='f1')"
   ]
  },
  {
   "cell_type": "code",
   "execution_count": 27,
   "id": "f2233469-da61-4538-aa25-2295dd0babb9",
   "metadata": {},
   "outputs": [
    {
     "name": "stdout",
     "output_type": "stream",
     "text": [
      "Gaussian Naive Bayes:\n",
      "Accuracy: 0.8217730830896915\n",
      "Precision: nan\n",
      "Recall: nan\n",
      "F1 Score: nan\n"
     ]
    }
   ],
   "source": [
    "print(\"Gaussian Naive Bayes:\")\n",
    "print(\"Accuracy:\", np.mean(accuracy_scores))\n",
    "print(\"Precision:\", np.mean(precision_scores))\n",
    "print(\"Recall:\", np.mean(recall_scores))\n",
    "print(\"F1 Score:\", np.mean(f1_scores))"
   ]
  },
  {
   "cell_type": "markdown",
   "id": "af982c8c-5e58-4dda-884e-7d43eaa541d5",
   "metadata": {},
   "source": [
    "In conclusion, by implementing and evaluating Bernoulli Naive Bayes, Multinomial Naive Bayes, and Gaussian Naive Bayes on the Spambase dataset, we can determine the best-performing variant for spam detection. The results obtained from the evaluation provide insights into the performance of each classifier in terms of accuracy, precision, recall, and F1 score. Based on these results, we can make informed decisions about which variant to use for spam detection tasks. Suggestions for future work could include exploring different feature engineering techniques, trying different variations of Naive Bayes algorithms, or comparing Naive Bayes with other classification algorithms to further improve the performance of spam detection models.\n",
    "\n",
    "\n",
    "\n",
    "\n"
   ]
  },
  {
   "cell_type": "code",
   "execution_count": null,
   "id": "c1be3270-efd0-43f4-b125-321aac76b017",
   "metadata": {},
   "outputs": [],
   "source": [
    "accuracy of Bernoulli Naive Bayes is heighest"
   ]
  }
 ],
 "metadata": {
  "kernelspec": {
   "display_name": "Python 3 (ipykernel)",
   "language": "python",
   "name": "python3"
  },
  "language_info": {
   "codemirror_mode": {
    "name": "ipython",
    "version": 3
   },
   "file_extension": ".py",
   "mimetype": "text/x-python",
   "name": "python",
   "nbconvert_exporter": "python",
   "pygments_lexer": "ipython3",
   "version": "3.10.8"
  }
 },
 "nbformat": 4,
 "nbformat_minor": 5
}
